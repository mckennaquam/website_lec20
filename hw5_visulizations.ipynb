{
 "cells": [
  {
   "cell_type": "code",
   "execution_count": 2,
   "id": "385cc81a",
   "metadata": {},
   "outputs": [],
   "source": [
    "import pandas as pd\n",
    "import altair as alt"
   ]
  },
  {
   "cell_type": "code",
   "execution_count": 3,
   "id": "95f5bc8a",
   "metadata": {},
   "outputs": [
    {
     "name": "stdout",
     "output_type": "stream",
     "text": [
      "Defaulting to user installation because normal site-packages is not writeable\n",
      "Collecting altair==5.0.0rc1\n",
      "  Using cached altair-5.0.0rc1-py3-none-any.whl (709 kB)\n",
      "Collecting toolz\n",
      "  Downloading toolz-0.12.0-py3-none-any.whl (55 kB)\n",
      "\u001b[K     |████████████████████████████████| 55 kB 4.3 MB/s eta 0:00:01\n",
      "\u001b[?25hRequirement already satisfied: numpy in /Library/Python/3.9/site-packages (from altair==5.0.0rc1) (1.24.1)\n",
      "Requirement already satisfied: pandas>=0.18 in /Library/Python/3.9/site-packages (from altair==5.0.0rc1) (1.5.2)\n",
      "Requirement already satisfied: jsonschema>=3.0 in /Users/mckennaquam/Library/Python/3.9/lib/python/site-packages (from altair==5.0.0rc1) (4.17.3)\n",
      "Collecting typing-extensions>=4.0.1\n",
      "  Using cached typing_extensions-4.5.0-py3-none-any.whl (27 kB)\n",
      "Requirement already satisfied: jinja2 in /Users/mckennaquam/Library/Python/3.9/lib/python/site-packages (from altair==5.0.0rc1) (3.1.2)\n",
      "Requirement already satisfied: pyrsistent!=0.17.0,!=0.17.1,!=0.17.2,>=0.14.0 in /Users/mckennaquam/Library/Python/3.9/lib/python/site-packages (from jsonschema>=3.0->altair==5.0.0rc1) (0.19.3)\n",
      "Requirement already satisfied: attrs>=17.4.0 in /Users/mckennaquam/Library/Python/3.9/lib/python/site-packages (from jsonschema>=3.0->altair==5.0.0rc1) (22.2.0)\n",
      "Requirement already satisfied: python-dateutil>=2.8.1 in /Library/Python/3.9/site-packages (from pandas>=0.18->altair==5.0.0rc1) (2.8.2)\n",
      "Requirement already satisfied: pytz>=2020.1 in /Library/Python/3.9/site-packages (from pandas>=0.18->altair==5.0.0rc1) (2022.7.1)\n",
      "Requirement already satisfied: six>=1.5 in /Library/Developer/CommandLineTools/Library/Frameworks/Python3.framework/Versions/3.9/lib/python3.9/site-packages (from python-dateutil>=2.8.1->pandas>=0.18->altair==5.0.0rc1) (1.15.0)\n",
      "Requirement already satisfied: MarkupSafe>=2.0 in /Users/mckennaquam/Library/Python/3.9/lib/python/site-packages (from jinja2->altair==5.0.0rc1) (2.1.2)\n",
      "Installing collected packages: typing-extensions, toolz, altair\n",
      "Successfully installed altair-5.0.0rc1 toolz-0.12.0 typing-extensions-4.5.0\n",
      "\u001b[33mWARNING: You are using pip version 21.2.4; however, version 23.0.1 is available.\n",
      "You should consider upgrading via the '/Library/Developer/CommandLineTools/usr/bin/python3 -m pip install --upgrade pip' command.\u001b[0m\n",
      "Note: you may need to restart the kernel to use updated packages.\n"
     ]
    }
   ],
   "source": []
  },
  {
   "cell_type": "code",
   "execution_count": 1,
   "id": "c2aae1e5",
   "metadata": {},
   "outputs": [
    {
     "ename": "NameError",
     "evalue": "name 'pd' is not defined",
     "output_type": "error",
     "traceback": [
      "\u001b[0;31m---------------------------------------------------------------------------\u001b[0m",
      "\u001b[0;31mNameError\u001b[0m                                 Traceback (most recent call last)",
      "Cell \u001b[0;32mIn[1], line 1\u001b[0m\n\u001b[0;32m----> 1\u001b[0m df \u001b[39m=\u001b[39m pd\u001b[39m.\u001b[39mread_csv(\u001b[39m\"\u001b[39m\u001b[39mtmdb_5000_movies.csv\u001b[39m\u001b[39m\"\u001b[39m)\n\u001b[1;32m      2\u001b[0m df\u001b[39m.\u001b[39minfo()\n",
      "\u001b[0;31mNameError\u001b[0m: name 'pd' is not defined"
     ]
    }
   ],
   "source": [
    "df = pd.read_csv(\"tmdb_5000_movies.csv\")\n",
    "df.info()"
   ]
  },
  {
   "cell_type": "code",
   "execution_count": 8,
   "id": "39ccf396",
   "metadata": {},
   "outputs": [],
   "source": [
    "df = pd.read_csv(\"tmdb_5000_movies.csv\")\n",
    "\n",
    "df[\"budget_in_millions\"] = df[\"budget\"] / 1000000\n",
    "df[\"revenue_in_millions\"] = df[\"revenue\"] / 1000000\n",
    "\n",
    "\n",
    "df= df [[\"budget_in_millions\", \"revenue_in_millions\", \"title\", \"release_date\", \"vote_count\"]]\n",
    "df.to_csv(\"scatter.csv\")"
   ]
  },
  {
   "cell_type": "code",
   "execution_count": 13,
   "id": "2aaa0c57",
   "metadata": {},
   "outputs": [],
   "source": [
    "df = pd.read_csv(\"tmdb_5000_movies.csv\")\n",
    "\n",
    "df[\"revenue_in_millions\"] = df[\"revenue\"] / 1000000\n",
    "\n",
    "def genre_name(row):\n",
    "    index = row[\"genres\"].find(\"\\\"name\\\": \\\"\") + 9\n",
    "    string = row[\"genres\"][index:]\n",
    "    index_end = string.find(\"\\\"\")\n",
    "    string = string[:index_end]\n",
    "    return string\n",
    "\n",
    "\n",
    "df[\"genres_name\"] = df.apply(lambda row: genre_name(row), axis=1)\n",
    "\n",
    "def year_of_release(row):\n",
    "    date_str = str(row[\"release_date\"])\n",
    "    index = date_str.find(\"-\")\n",
    "    return date_str[:index]\n",
    "\n",
    "df[\"year_of_release\"] = df.apply(lambda row: year_of_release(row), axis=1)\n",
    "\n",
    "df = df[df.genres_name != \"\"]\n",
    "df = df[df.year_of_release != \"\"]\n",
    "\n",
    "year_filter = df[(df[\"year_of_release\"] >= \"1980\") & (df[\"year_of_release\"] <= \"2015\")]\n",
    "gener_list = [\"Drama\", \"Comedy\", \"Action\", \"Adventure\", \"Horror\", \"Romance\", \"Crime\", \"Thriller\", \"Animation\", \"Fantasy\"]\n",
    "genre_filter = year_filter[year_filter.genres_name.isin(gener_list)]\n",
    "\n",
    "\n",
    "genre_filter = genre_filter[[\"genres_name\", \"year_of_release\", \"revenue_in_millions\"]]\n",
    "genre_filter.to_csv(\"line.csv\")"
   ]
  },
  {
   "cell_type": "code",
   "execution_count": null,
   "id": "9b53c72b",
   "metadata": {},
   "outputs": [],
   "source": []
  },
  {
   "cell_type": "code",
   "execution_count": 6,
   "id": "29c16f98",
   "metadata": {
    "scrolled": true
   },
   "outputs": [],
   "source": [
    "df = pd.read_csv(\"scatter.csv\")\n",
    "\n",
    "interval = alt.selection_interval(encodings=['x'])\n",
    "\n",
    "scatter = alt.Chart(df).mark_point().encode(\n",
    "    alt.X(\"budget_in_millions:Q\", axis=alt.Axis(title='Budget in Millions')),\n",
    "    alt.Y(\"revenue_in_millions:Q\", axis=alt.Axis(title='Revenue in Millions')),\n",
    "    tooltip=[\"title\", \"release_date\", \"vote_count\"],\n",
    "    color = alt.condition(alt.expr.datum['budget_in_millions'] < alt.expr.datum['revenue_in_millions'], \n",
    "                          alt.value('darkgreen'), alt.value('slategray'))\n",
    ").properties(\n",
    "    width=700,\n",
    "    height = 500,\n",
    "    title={\"text\": \"Budget vs Revenue of the Top 5000 Rated Movies\",\n",
    "          \"subtitle\": \"Green means the film made money, grey means it lost money. Use the tick chart to filter films by number of votes\"}\n",
    ").transform_filter(\n",
    "    interval\n",
    ")\n",
    "\n",
    "tick = alt.Chart(df).mark_tick().encode(\n",
    "    alt.X(\"vote_count\", axis=alt.Axis(title='Number of Votes')),\n",
    "    color = alt.value('gray'),\n",
    "    #opacity = alt.value(0.4)\n",
    ").properties(\n",
    "    width = 700\n",
    ")\n",
    "\n",
    "view = tick.add_params(\n",
    "    interval\n",
    ")\n",
    "\n",
    "combo = scatter & view\n",
    "combo.save('scatter_2.html')"
   ]
  },
  {
   "cell_type": "code",
   "execution_count": 8,
   "id": "36586e77",
   "metadata": {},
   "outputs": [],
   "source": [
    "def genre_name(row):\n",
    "    index = row[\"genres\"].find(\"\\\"name\\\": \\\"\") + 9\n",
    "    string = row[\"genres\"][index:]\n",
    "    index_end = string.find(\"\\\"\")\n",
    "    string = string[:index_end]\n",
    "    return string\n",
    "\n",
    "\n",
    "df[\"genres_name\"] = df.apply(lambda row: genre_name(row), axis=1)\n",
    "\n",
    "def year_of_release(row):\n",
    "    date_str = str(row[\"release_date\"])\n",
    "    index = date_str.find(\"-\")\n",
    "    return date_str[:index]\n",
    "\n",
    "df[\"year_of_release\"] = df.apply(lambda row: year_of_release(row), axis=1)\n",
    "\n",
    "df = df[df.genres_name != \"\"]\n",
    "df = df[df.year_of_release != \"\"]"
   ]
  },
  {
   "cell_type": "code",
   "execution_count": 15,
   "id": "9cbba6e7",
   "metadata": {},
   "outputs": [],
   "source": [
    "genre_filter = pd.read_csv(\"line.csv\")\n",
    "\n",
    "selection = alt.selection_point(fields=['genres_name'], bind='legend')\n",
    "\n",
    "revenue = alt.Chart(genre_filter).mark_line().encode(\n",
    "    x = alt.X(\"year_of_release\", axis = alt.Axis(title='Year of Release')),\n",
    "    y = alt.Y(\"sum(revenue_in_millions)\", axis = alt.Axis(title='Revenue in Millions')),\n",
    "    color = \"genres_name\"\n",
    ").properties(\n",
    "    width=600,\n",
    "    height=300,\n",
    "    title = {\"text\": \"Film revenue and number of films released over time\",\n",
    "          \"subtitle\": \"Click the legend to filter revenue by genre\"}\n",
    ").transform_filter(\n",
    "    selection\n",
    ")\n",
    "\n",
    "stream = alt.Chart(genre_filter).mark_area().encode(\n",
    "    x = alt.X(\"year_of_release\", axis = alt.Axis(title='Year of Release')),\n",
    "    y=\"count()\",\n",
    "    color = \"genres_name\",\n",
    "    opacity = alt.condition(selection, alt.value(1), alt.value(0.2))\n",
    ").properties(\n",
    "    width=600,\n",
    "    height=300\n",
    ").add_params(\n",
    "    selection\n",
    ")\n",
    "\n",
    "line = (revenue & stream)\n",
    "line.save('line_2.html')"
   ]
  }
 ],
 "metadata": {
  "kernelspec": {
   "display_name": "Python 3",
   "language": "python",
   "name": "python3"
  },
  "language_info": {
   "codemirror_mode": {
    "name": "ipython",
    "version": 3
   },
   "file_extension": ".py",
   "mimetype": "text/x-python",
   "name": "python",
   "nbconvert_exporter": "python",
   "pygments_lexer": "ipython3",
   "version": "3.9.6"
  },
  "vscode": {
   "interpreter": {
    "hash": "31f2aee4e71d21fbe5cf8b01ff0e069b9275f58929596ceb00d14d90e3e16cd6"
   }
  }
 },
 "nbformat": 4,
 "nbformat_minor": 5
}
